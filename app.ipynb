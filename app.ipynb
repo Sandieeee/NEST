{
 "cells": [
  {
   "cell_type": "code",
   "execution_count": 987,
   "metadata": {},
   "outputs": [],
   "source": [
    "import pandas as pd \n",
    "import numpy as np\n",
    "import ast"
   ]
  },
  {
   "cell_type": "code",
   "execution_count": 988,
   "metadata": {},
   "outputs": [],
   "source": [
    "data = pd.read_csv('ctg-studies (1).csv')"
   ]
  },
  {
   "cell_type": "code",
   "execution_count": 989,
   "metadata": {},
   "outputs": [
    {
     "data": {
      "text/html": [
       "<div>\n",
       "<style scoped>\n",
       "    .dataframe tbody tr th:only-of-type {\n",
       "        vertical-align: middle;\n",
       "    }\n",
       "\n",
       "    .dataframe tbody tr th {\n",
       "        vertical-align: top;\n",
       "    }\n",
       "\n",
       "    .dataframe thead th {\n",
       "        text-align: right;\n",
       "    }\n",
       "</style>\n",
       "<table border=\"1\" class=\"dataframe\">\n",
       "  <thead>\n",
       "    <tr style=\"text-align: right;\">\n",
       "      <th></th>\n",
       "      <th>NCT Number</th>\n",
       "      <th>Study Title</th>\n",
       "      <th>Acronym</th>\n",
       "      <th>Conditions</th>\n",
       "      <th>Interventions</th>\n",
       "      <th>Sex</th>\n",
       "      <th>Age</th>\n",
       "      <th>Phases</th>\n",
       "      <th>Enrollment</th>\n",
       "      <th>Study Design</th>\n",
       "      <th>Locations</th>\n",
       "    </tr>\n",
       "  </thead>\n",
       "  <tbody>\n",
       "    <tr>\n",
       "      <th>0</th>\n",
       "      <td>NCT04573062</td>\n",
       "      <td>Natural History of Post-Coronavirus Disease 19...</td>\n",
       "      <td>NaN</td>\n",
       "      <td>Post-Coronavirus Disease 19</td>\n",
       "      <td>NaN</td>\n",
       "      <td>ALL</td>\n",
       "      <td>ADULT, OLDER_ADULT</td>\n",
       "      <td>NaN</td>\n",
       "      <td>1590.0</td>\n",
       "      <td>Observational Model: |Time Perspective: p</td>\n",
       "      <td>National Institutes of Health Clinical Center,...</td>\n",
       "    </tr>\n",
       "  </tbody>\n",
       "</table>\n",
       "</div>"
      ],
      "text/plain": [
       "    NCT Number                                        Study Title Acronym  \\\n",
       "0  NCT04573062  Natural History of Post-Coronavirus Disease 19...     NaN   \n",
       "\n",
       "                    Conditions Interventions  Sex                 Age Phases  \\\n",
       "0  Post-Coronavirus Disease 19           NaN  ALL  ADULT, OLDER_ADULT    NaN   \n",
       "\n",
       "   Enrollment                               Study Design  \\\n",
       "0      1590.0  Observational Model: |Time Perspective: p   \n",
       "\n",
       "                                           Locations  \n",
       "0  National Institutes of Health Clinical Center,...  "
      ]
     },
     "execution_count": 989,
     "metadata": {},
     "output_type": "execute_result"
    }
   ],
   "source": [
    "data.head(1)\n"
   ]
  },
  {
   "cell_type": "code",
   "execution_count": 990,
   "metadata": {},
   "outputs": [
    {
     "data": {
      "text/plain": [
       "(9849, 11)"
      ]
     },
     "execution_count": 990,
     "metadata": {},
     "output_type": "execute_result"
    }
   ],
   "source": [
    "data.shape"
   ]
  },
  {
   "cell_type": "code",
   "execution_count": 991,
   "metadata": {},
   "outputs": [
    {
     "data": {
      "text/plain": [
       "Acronym\n",
       "COVID-19          123\n",
       "CAR-CF             11\n",
       "PROTECT             8\n",
       "Covid-19            8\n",
       "COVID               7\n",
       "                 ... \n",
       "COVIBOOSTAnci1      1\n",
       "CoVAcS              1\n",
       "TOF-COVID           1\n",
       "DoBiC-19            1\n",
       "TILIA               1\n",
       "Name: count, Length: 3457, dtype: int64"
      ]
     },
     "execution_count": 991,
     "metadata": {},
     "output_type": "execute_result"
    }
   ],
   "source": [
    "data['Acronym'].value_counts()"
   ]
  },
  {
   "cell_type": "code",
   "execution_count": 992,
   "metadata": {},
   "outputs": [],
   "source": [
    "data = data[['NCT Number','Acronym','Conditions','Interventions','Sex','Age','Phases','Locations','Enrollment']]"
   ]
  },
  {
   "cell_type": "code",
   "execution_count": 993,
   "metadata": {},
   "outputs": [
    {
     "data": {
      "text/plain": [
       "NCT Number          0\n",
       "Acronym          6080\n",
       "Conditions          0\n",
       "Interventions    1423\n",
       "Sex                13\n",
       "Age                 0\n",
       "Phases           6595\n",
       "Locations         641\n",
       "Enrollment         38\n",
       "dtype: int64"
      ]
     },
     "execution_count": 993,
     "metadata": {},
     "output_type": "execute_result"
    }
   ],
   "source": [
    "data.isnull().sum()"
   ]
  },
  {
   "cell_type": "code",
   "execution_count": 994,
   "metadata": {},
   "outputs": [],
   "source": [
    "data.dropna(inplace=True)"
   ]
  },
  {
   "cell_type": "code",
   "execution_count": 995,
   "metadata": {},
   "outputs": [
    {
     "data": {
      "text/html": [
       "<div>\n",
       "<style scoped>\n",
       "    .dataframe tbody tr th:only-of-type {\n",
       "        vertical-align: middle;\n",
       "    }\n",
       "\n",
       "    .dataframe tbody tr th {\n",
       "        vertical-align: top;\n",
       "    }\n",
       "\n",
       "    .dataframe thead th {\n",
       "        text-align: right;\n",
       "    }\n",
       "</style>\n",
       "<table border=\"1\" class=\"dataframe\">\n",
       "  <thead>\n",
       "    <tr style=\"text-align: right;\">\n",
       "      <th></th>\n",
       "      <th>NCT Number</th>\n",
       "      <th>Acronym</th>\n",
       "      <th>Conditions</th>\n",
       "      <th>Interventions</th>\n",
       "      <th>Sex</th>\n",
       "      <th>Age</th>\n",
       "      <th>Phases</th>\n",
       "      <th>Locations</th>\n",
       "      <th>Enrollment</th>\n",
       "    </tr>\n",
       "  </thead>\n",
       "  <tbody>\n",
       "    <tr>\n",
       "      <th>2</th>\n",
       "      <td>NCT04303299</td>\n",
       "      <td>FIGHT-COVID-19</td>\n",
       "      <td>SARS-COV-2 Infections|COVID-19</td>\n",
       "      <td>DRUG: Oral</td>\n",
       "      <td>ALL</td>\n",
       "      <td>CHILD, ADULT, OLDER_ADULT</td>\n",
       "      <td>PHASE3</td>\n",
       "      <td>Assistant Professor Subsai Kongsaengdao, Bangk...</td>\n",
       "      <td>320.0</td>\n",
       "    </tr>\n",
       "    <tr>\n",
       "      <th>4</th>\n",
       "      <td>NCT04932850</td>\n",
       "      <td>MAD0004J08</td>\n",
       "      <td>COVID-19 Virus Disease</td>\n",
       "      <td>BIOLOGICAL: MAD0004J08|OTHER: Placebo</td>\n",
       "      <td>ALL</td>\n",
       "      <td>ADULT</td>\n",
       "      <td>PHASE1</td>\n",
       "      <td>Inmi 'L.Spallanzani' - Irccs, Roma, Lazio, 001...</td>\n",
       "      <td>30.0</td>\n",
       "    </tr>\n",
       "    <tr>\n",
       "      <th>6</th>\n",
       "      <td>NCT05305508</td>\n",
       "      <td>COVID-19</td>\n",
       "      <td>COVID-19 Virus Disease</td>\n",
       "      <td>DRUG: Calcium Dobesilate|DRUG: Mannitol</td>\n",
       "      <td>ALL</td>\n",
       "      <td>CHILD, ADULT, OLDER_ADULT</td>\n",
       "      <td>PHASE2</td>\n",
       "      <td>Division and Department of Primary Care Medici...</td>\n",
       "      <td>74.0</td>\n",
       "    </tr>\n",
       "    <tr>\n",
       "      <th>15</th>\n",
       "      <td>NCT04790240</td>\n",
       "      <td>COVID</td>\n",
       "      <td>Covid19 Virus Infection</td>\n",
       "      <td>DIETARY_SUPPLEMENT: Inflammation (I)|DIETARY_S...</td>\n",
       "      <td>ALL</td>\n",
       "      <td>CHILD, ADULT, OLDER_ADULT</td>\n",
       "      <td>PHASE1|PHASE2</td>\n",
       "      <td>All Natural Medicine Clinic, LLC, Rockville, M...</td>\n",
       "      <td>120.0</td>\n",
       "    </tr>\n",
       "    <tr>\n",
       "      <th>23</th>\n",
       "      <td>NCT04449380</td>\n",
       "      <td>INTERCOP</td>\n",
       "      <td>COVID-19 Virus Infection</td>\n",
       "      <td>DRUG: Interferon-ß-1a|COMBINATION_PRODUCT: Sta...</td>\n",
       "      <td>ALL</td>\n",
       "      <td>ADULT, OLDER_ADULT</td>\n",
       "      <td>PHASE2</td>\n",
       "      <td>IRCCS Ospedale San Raffaele, Milano, 20132, Italy</td>\n",
       "      <td>56.0</td>\n",
       "    </tr>\n",
       "  </tbody>\n",
       "</table>\n",
       "</div>"
      ],
      "text/plain": [
       "     NCT Number         Acronym                      Conditions  \\\n",
       "2   NCT04303299  FIGHT-COVID-19  SARS-COV-2 Infections|COVID-19   \n",
       "4   NCT04932850      MAD0004J08          COVID-19 Virus Disease   \n",
       "6   NCT05305508        COVID-19          COVID-19 Virus Disease   \n",
       "15  NCT04790240           COVID         Covid19 Virus Infection   \n",
       "23  NCT04449380        INTERCOP        COVID-19 Virus Infection   \n",
       "\n",
       "                                        Interventions  Sex  \\\n",
       "2                                          DRUG: Oral  ALL   \n",
       "4               BIOLOGICAL: MAD0004J08|OTHER: Placebo  ALL   \n",
       "6             DRUG: Calcium Dobesilate|DRUG: Mannitol  ALL   \n",
       "15  DIETARY_SUPPLEMENT: Inflammation (I)|DIETARY_S...  ALL   \n",
       "23  DRUG: Interferon-ß-1a|COMBINATION_PRODUCT: Sta...  ALL   \n",
       "\n",
       "                          Age         Phases  \\\n",
       "2   CHILD, ADULT, OLDER_ADULT         PHASE3   \n",
       "4                       ADULT         PHASE1   \n",
       "6   CHILD, ADULT, OLDER_ADULT         PHASE2   \n",
       "15  CHILD, ADULT, OLDER_ADULT  PHASE1|PHASE2   \n",
       "23         ADULT, OLDER_ADULT         PHASE2   \n",
       "\n",
       "                                            Locations  Enrollment  \n",
       "2   Assistant Professor Subsai Kongsaengdao, Bangk...       320.0  \n",
       "4   Inmi 'L.Spallanzani' - Irccs, Roma, Lazio, 001...        30.0  \n",
       "6   Division and Department of Primary Care Medici...        74.0  \n",
       "15  All Natural Medicine Clinic, LLC, Rockville, M...       120.0  \n",
       "23  IRCCS Ospedale San Raffaele, Milano, 20132, Italy        56.0  "
      ]
     },
     "execution_count": 995,
     "metadata": {},
     "output_type": "execute_result"
    }
   ],
   "source": [
    "data.head()"
   ]
  },
  {
   "cell_type": "code",
   "execution_count": 996,
   "metadata": {},
   "outputs": [
    {
     "data": {
      "text/plain": [
       "(1084, 9)"
      ]
     },
     "execution_count": 996,
     "metadata": {},
     "output_type": "execute_result"
    }
   ],
   "source": [
    "data.shape"
   ]
  },
  {
   "cell_type": "code",
   "execution_count": 997,
   "metadata": {},
   "outputs": [],
   "source": [
    "data = data.drop_duplicates()"
   ]
  },
  {
   "cell_type": "code",
   "execution_count": 998,
   "metadata": {},
   "outputs": [
    {
     "data": {
      "text/plain": [
       "'FIGHT-COVID-19'"
      ]
     },
     "execution_count": 998,
     "metadata": {},
     "output_type": "execute_result"
    }
   ],
   "source": [
    "data.iloc[0].Acronym"
   ]
  },
  {
   "cell_type": "code",
   "execution_count": 999,
   "metadata": {},
   "outputs": [],
   "source": [
    "data['Conditions'] = data['Conditions'].apply(lambda x:x.split())"
   ]
  },
  {
   "cell_type": "code",
   "execution_count": 1000,
   "metadata": {},
   "outputs": [
    {
     "data": {
      "text/html": [
       "<div>\n",
       "<style scoped>\n",
       "    .dataframe tbody tr th:only-of-type {\n",
       "        vertical-align: middle;\n",
       "    }\n",
       "\n",
       "    .dataframe tbody tr th {\n",
       "        vertical-align: top;\n",
       "    }\n",
       "\n",
       "    .dataframe thead th {\n",
       "        text-align: right;\n",
       "    }\n",
       "</style>\n",
       "<table border=\"1\" class=\"dataframe\">\n",
       "  <thead>\n",
       "    <tr style=\"text-align: right;\">\n",
       "      <th></th>\n",
       "      <th>NCT Number</th>\n",
       "      <th>Acronym</th>\n",
       "      <th>Conditions</th>\n",
       "      <th>Interventions</th>\n",
       "      <th>Sex</th>\n",
       "      <th>Age</th>\n",
       "      <th>Phases</th>\n",
       "      <th>Locations</th>\n",
       "      <th>Enrollment</th>\n",
       "    </tr>\n",
       "  </thead>\n",
       "  <tbody>\n",
       "    <tr>\n",
       "      <th>2</th>\n",
       "      <td>NCT04303299</td>\n",
       "      <td>FIGHT-COVID-19</td>\n",
       "      <td>[SARS-COV-2, Infections|COVID-19]</td>\n",
       "      <td>DRUG: Oral</td>\n",
       "      <td>ALL</td>\n",
       "      <td>CHILD, ADULT, OLDER_ADULT</td>\n",
       "      <td>PHASE3</td>\n",
       "      <td>Assistant Professor Subsai Kongsaengdao, Bangk...</td>\n",
       "      <td>320.0</td>\n",
       "    </tr>\n",
       "  </tbody>\n",
       "</table>\n",
       "</div>"
      ],
      "text/plain": [
       "    NCT Number         Acronym                         Conditions  \\\n",
       "2  NCT04303299  FIGHT-COVID-19  [SARS-COV-2, Infections|COVID-19]   \n",
       "\n",
       "  Interventions  Sex                        Age  Phases  \\\n",
       "2    DRUG: Oral  ALL  CHILD, ADULT, OLDER_ADULT  PHASE3   \n",
       "\n",
       "                                           Locations  Enrollment  \n",
       "2  Assistant Professor Subsai Kongsaengdao, Bangk...       320.0  "
      ]
     },
     "execution_count": 1000,
     "metadata": {},
     "output_type": "execute_result"
    }
   ],
   "source": [
    "data.head(1)"
   ]
  },
  {
   "cell_type": "code",
   "execution_count": 1001,
   "metadata": {},
   "outputs": [],
   "source": [
    "data['Locations'] = data['Locations'].apply(lambda x:x.split())"
   ]
  },
  {
   "cell_type": "code",
   "execution_count": 1002,
   "metadata": {},
   "outputs": [],
   "source": [
    "data['Interventions'] = data['Interventions'].apply(lambda x:x.split())"
   ]
  },
  {
   "cell_type": "code",
   "execution_count": 1003,
   "metadata": {},
   "outputs": [],
   "source": [
    "data['Age'] = data['Age'].apply(lambda x:x.split())"
   ]
  },
  {
   "cell_type": "code",
   "execution_count": 1004,
   "metadata": {},
   "outputs": [],
   "source": [
    "data = data.drop(['Sex'],axis='columns')"
   ]
  },
  {
   "cell_type": "code",
   "execution_count": 1005,
   "metadata": {},
   "outputs": [],
   "source": [
    "\n",
    "data['Conditions']=data['Conditions'].apply(lambda x:[i.replace(\" \",\"\") for i in x])\n",
    "\n"
   ]
  },
  {
   "cell_type": "code",
   "execution_count": 1006,
   "metadata": {},
   "outputs": [
    {
     "data": {
      "text/plain": [
       "2    [Assistant, Professor, Subsai, Kongsaengdao,, ...\n",
       "Name: Locations, dtype: object"
      ]
     },
     "execution_count": 1006,
     "metadata": {},
     "output_type": "execute_result"
    }
   ],
   "source": [
    "data['Locations'].head(1)"
   ]
  },
  {
   "cell_type": "code",
   "execution_count": 1007,
   "metadata": {},
   "outputs": [
    {
     "data": {
      "text/html": [
       "<div>\n",
       "<style scoped>\n",
       "    .dataframe tbody tr th:only-of-type {\n",
       "        vertical-align: middle;\n",
       "    }\n",
       "\n",
       "    .dataframe tbody tr th {\n",
       "        vertical-align: top;\n",
       "    }\n",
       "\n",
       "    .dataframe thead th {\n",
       "        text-align: right;\n",
       "    }\n",
       "</style>\n",
       "<table border=\"1\" class=\"dataframe\">\n",
       "  <thead>\n",
       "    <tr style=\"text-align: right;\">\n",
       "      <th></th>\n",
       "      <th>NCT Number</th>\n",
       "      <th>Acronym</th>\n",
       "      <th>Conditions</th>\n",
       "      <th>Interventions</th>\n",
       "      <th>Age</th>\n",
       "      <th>Phases</th>\n",
       "      <th>Locations</th>\n",
       "      <th>Enrollment</th>\n",
       "    </tr>\n",
       "  </thead>\n",
       "  <tbody>\n",
       "    <tr>\n",
       "      <th>2</th>\n",
       "      <td>NCT04303299</td>\n",
       "      <td>FIGHT-COVID-19</td>\n",
       "      <td>[SARS-COV-2, Infections|COVID-19]</td>\n",
       "      <td>[DRUG:, Oral]</td>\n",
       "      <td>[CHILD,, ADULT,, OLDER_ADULT]</td>\n",
       "      <td>PHASE3</td>\n",
       "      <td>[Assistant, Professor, Subsai, Kongsaengdao,, ...</td>\n",
       "      <td>320.0</td>\n",
       "    </tr>\n",
       "  </tbody>\n",
       "</table>\n",
       "</div>"
      ],
      "text/plain": [
       "    NCT Number         Acronym                         Conditions  \\\n",
       "2  NCT04303299  FIGHT-COVID-19  [SARS-COV-2, Infections|COVID-19]   \n",
       "\n",
       "   Interventions                            Age  Phases  \\\n",
       "2  [DRUG:, Oral]  [CHILD,, ADULT,, OLDER_ADULT]  PHASE3   \n",
       "\n",
       "                                           Locations  Enrollment  \n",
       "2  [Assistant, Professor, Subsai, Kongsaengdao,, ...       320.0  "
      ]
     },
     "execution_count": 1007,
     "metadata": {},
     "output_type": "execute_result"
    }
   ],
   "source": [
    "data.head(1)"
   ]
  },
  {
   "cell_type": "code",
   "execution_count": 1008,
   "metadata": {},
   "outputs": [
    {
     "data": {
      "text/plain": [
       "(1084, 8)"
      ]
     },
     "execution_count": 1008,
     "metadata": {},
     "output_type": "execute_result"
    }
   ],
   "source": [
    "data.shape"
   ]
  },
  {
   "cell_type": "code",
   "execution_count": 1009,
   "metadata": {},
   "outputs": [],
   "source": [
    "data['tags'] = data['Conditions']+data['Interventions']+data['Locations']"
   ]
  },
  {
   "cell_type": "code",
   "execution_count": 1010,
   "metadata": {},
   "outputs": [
    {
     "data": {
      "text/plain": [
       "2    [SARS-COV-2, Infections|COVID-19, DRUG:, Oral,...\n",
       "Name: tags, dtype: object"
      ]
     },
     "execution_count": 1010,
     "metadata": {},
     "output_type": "execute_result"
    }
   ],
   "source": [
    "data['tags'].head(1)"
   ]
  },
  {
   "cell_type": "code",
   "execution_count": 1011,
   "metadata": {},
   "outputs": [],
   "source": [
    "new_df = data[['NCT Number','Acronym','Age','Phases','tags','Enrollment']]"
   ]
  },
  {
   "cell_type": "code",
   "execution_count": 1012,
   "metadata": {},
   "outputs": [
    {
     "data": {
      "text/html": [
       "<div>\n",
       "<style scoped>\n",
       "    .dataframe tbody tr th:only-of-type {\n",
       "        vertical-align: middle;\n",
       "    }\n",
       "\n",
       "    .dataframe tbody tr th {\n",
       "        vertical-align: top;\n",
       "    }\n",
       "\n",
       "    .dataframe thead th {\n",
       "        text-align: right;\n",
       "    }\n",
       "</style>\n",
       "<table border=\"1\" class=\"dataframe\">\n",
       "  <thead>\n",
       "    <tr style=\"text-align: right;\">\n",
       "      <th></th>\n",
       "      <th>NCT Number</th>\n",
       "      <th>Acronym</th>\n",
       "      <th>Age</th>\n",
       "      <th>Phases</th>\n",
       "      <th>tags</th>\n",
       "      <th>Enrollment</th>\n",
       "    </tr>\n",
       "  </thead>\n",
       "  <tbody>\n",
       "    <tr>\n",
       "      <th>2</th>\n",
       "      <td>NCT04303299</td>\n",
       "      <td>FIGHT-COVID-19</td>\n",
       "      <td>[CHILD,, ADULT,, OLDER_ADULT]</td>\n",
       "      <td>PHASE3</td>\n",
       "      <td>[SARS-COV-2, Infections|COVID-19, DRUG:, Oral,...</td>\n",
       "      <td>320.0</td>\n",
       "    </tr>\n",
       "  </tbody>\n",
       "</table>\n",
       "</div>"
      ],
      "text/plain": [
       "    NCT Number         Acronym                            Age  Phases  \\\n",
       "2  NCT04303299  FIGHT-COVID-19  [CHILD,, ADULT,, OLDER_ADULT]  PHASE3   \n",
       "\n",
       "                                                tags  Enrollment  \n",
       "2  [SARS-COV-2, Infections|COVID-19, DRUG:, Oral,...       320.0  "
      ]
     },
     "execution_count": 1012,
     "metadata": {},
     "output_type": "execute_result"
    }
   ],
   "source": [
    "new_df.head(1)"
   ]
  },
  {
   "cell_type": "code",
   "execution_count": 1013,
   "metadata": {},
   "outputs": [
    {
     "name": "stderr",
     "output_type": "stream",
     "text": [
      "C:\\Users\\KIIT\\AppData\\Local\\Temp\\ipykernel_688\\2187263681.py:1: SettingWithCopyWarning: \n",
      "A value is trying to be set on a copy of a slice from a DataFrame.\n",
      "Try using .loc[row_indexer,col_indexer] = value instead\n",
      "\n",
      "See the caveats in the documentation: https://pandas.pydata.org/pandas-docs/stable/user_guide/indexing.html#returning-a-view-versus-a-copy\n",
      "  new_df['tags'] = new_df['tags'].apply(lambda x:\"\".join(x))\n"
     ]
    }
   ],
   "source": [
    "new_df['tags'] = new_df['tags'].apply(lambda x:\"\".join(x))"
   ]
  },
  {
   "cell_type": "code",
   "execution_count": 1014,
   "metadata": {},
   "outputs": [],
   "source": [
    "import nltk"
   ]
  },
  {
   "cell_type": "code",
   "execution_count": 1015,
   "metadata": {},
   "outputs": [],
   "source": [
    "from nltk.stem.porter import PorterStemmer\n",
    "ps = PorterStemmer()\n"
   ]
  },
  {
   "cell_type": "code",
   "execution_count": 1016,
   "metadata": {},
   "outputs": [],
   "source": [
    "def stem(text):\n",
    "    y = []\n",
    "    for i in text.split():\n",
    "        y.append(ps.stem(i))\n",
    "    return \" \".join(y)"
   ]
  },
  {
   "cell_type": "code",
   "execution_count": 1017,
   "metadata": {},
   "outputs": [
    {
     "data": {
      "text/html": [
       "<div>\n",
       "<style scoped>\n",
       "    .dataframe tbody tr th:only-of-type {\n",
       "        vertical-align: middle;\n",
       "    }\n",
       "\n",
       "    .dataframe tbody tr th {\n",
       "        vertical-align: top;\n",
       "    }\n",
       "\n",
       "    .dataframe thead th {\n",
       "        text-align: right;\n",
       "    }\n",
       "</style>\n",
       "<table border=\"1\" class=\"dataframe\">\n",
       "  <thead>\n",
       "    <tr style=\"text-align: right;\">\n",
       "      <th></th>\n",
       "      <th>NCT Number</th>\n",
       "      <th>Acronym</th>\n",
       "      <th>Age</th>\n",
       "      <th>Phases</th>\n",
       "      <th>tags</th>\n",
       "      <th>Enrollment</th>\n",
       "    </tr>\n",
       "  </thead>\n",
       "  <tbody>\n",
       "    <tr>\n",
       "      <th>2</th>\n",
       "      <td>NCT04303299</td>\n",
       "      <td>FIGHT-COVID-19</td>\n",
       "      <td>[CHILD,, ADULT,, OLDER_ADULT]</td>\n",
       "      <td>PHASE3</td>\n",
       "      <td>SARS-COV-2Infections|COVID-19DRUG:OralAssistan...</td>\n",
       "      <td>320.0</td>\n",
       "    </tr>\n",
       "    <tr>\n",
       "      <th>4</th>\n",
       "      <td>NCT04932850</td>\n",
       "      <td>MAD0004J08</td>\n",
       "      <td>[ADULT]</td>\n",
       "      <td>PHASE1</td>\n",
       "      <td>COVID-19VirusDiseaseBIOLOGICAL:MAD0004J08|OTHE...</td>\n",
       "      <td>30.0</td>\n",
       "    </tr>\n",
       "    <tr>\n",
       "      <th>6</th>\n",
       "      <td>NCT05305508</td>\n",
       "      <td>COVID-19</td>\n",
       "      <td>[CHILD,, ADULT,, OLDER_ADULT]</td>\n",
       "      <td>PHASE2</td>\n",
       "      <td>COVID-19VirusDiseaseDRUG:CalciumDobesilate|DRU...</td>\n",
       "      <td>74.0</td>\n",
       "    </tr>\n",
       "    <tr>\n",
       "      <th>15</th>\n",
       "      <td>NCT04790240</td>\n",
       "      <td>COVID</td>\n",
       "      <td>[CHILD,, ADULT,, OLDER_ADULT]</td>\n",
       "      <td>PHASE1|PHASE2</td>\n",
       "      <td>Covid19VirusInfectionDIETARY_SUPPLEMENT:Inflam...</td>\n",
       "      <td>120.0</td>\n",
       "    </tr>\n",
       "    <tr>\n",
       "      <th>23</th>\n",
       "      <td>NCT04449380</td>\n",
       "      <td>INTERCOP</td>\n",
       "      <td>[ADULT,, OLDER_ADULT]</td>\n",
       "      <td>PHASE2</td>\n",
       "      <td>COVID-19VirusInfectionDRUG:Interferon-ß-1a|COM...</td>\n",
       "      <td>56.0</td>\n",
       "    </tr>\n",
       "  </tbody>\n",
       "</table>\n",
       "</div>"
      ],
      "text/plain": [
       "     NCT Number         Acronym                            Age         Phases  \\\n",
       "2   NCT04303299  FIGHT-COVID-19  [CHILD,, ADULT,, OLDER_ADULT]         PHASE3   \n",
       "4   NCT04932850      MAD0004J08                        [ADULT]         PHASE1   \n",
       "6   NCT05305508        COVID-19  [CHILD,, ADULT,, OLDER_ADULT]         PHASE2   \n",
       "15  NCT04790240           COVID  [CHILD,, ADULT,, OLDER_ADULT]  PHASE1|PHASE2   \n",
       "23  NCT04449380        INTERCOP          [ADULT,, OLDER_ADULT]         PHASE2   \n",
       "\n",
       "                                                 tags  Enrollment  \n",
       "2   SARS-COV-2Infections|COVID-19DRUG:OralAssistan...       320.0  \n",
       "4   COVID-19VirusDiseaseBIOLOGICAL:MAD0004J08|OTHE...        30.0  \n",
       "6   COVID-19VirusDiseaseDRUG:CalciumDobesilate|DRU...        74.0  \n",
       "15  Covid19VirusInfectionDIETARY_SUPPLEMENT:Inflam...       120.0  \n",
       "23  COVID-19VirusInfectionDRUG:Interferon-ß-1a|COM...        56.0  "
      ]
     },
     "execution_count": 1017,
     "metadata": {},
     "output_type": "execute_result"
    }
   ],
   "source": [
    "new_df.head()"
   ]
  },
  {
   "cell_type": "code",
   "execution_count": 1018,
   "metadata": {},
   "outputs": [
    {
     "name": "stderr",
     "output_type": "stream",
     "text": [
      "C:\\Users\\KIIT\\AppData\\Local\\Temp\\ipykernel_688\\3214958533.py:1: SettingWithCopyWarning: \n",
      "A value is trying to be set on a copy of a slice from a DataFrame.\n",
      "Try using .loc[row_indexer,col_indexer] = value instead\n",
      "\n",
      "See the caveats in the documentation: https://pandas.pydata.org/pandas-docs/stable/user_guide/indexing.html#returning-a-view-versus-a-copy\n",
      "  new_df['tags'] = new_df['tags'].apply(lambda x:x.lower())\n"
     ]
    }
   ],
   "source": [
    "new_df['tags'] = new_df['tags'].apply(lambda x:x.lower())"
   ]
  },
  {
   "cell_type": "code",
   "execution_count": 1019,
   "metadata": {},
   "outputs": [
    {
     "data": {
      "text/html": [
       "<div>\n",
       "<style scoped>\n",
       "    .dataframe tbody tr th:only-of-type {\n",
       "        vertical-align: middle;\n",
       "    }\n",
       "\n",
       "    .dataframe tbody tr th {\n",
       "        vertical-align: top;\n",
       "    }\n",
       "\n",
       "    .dataframe thead th {\n",
       "        text-align: right;\n",
       "    }\n",
       "</style>\n",
       "<table border=\"1\" class=\"dataframe\">\n",
       "  <thead>\n",
       "    <tr style=\"text-align: right;\">\n",
       "      <th></th>\n",
       "      <th>NCT Number</th>\n",
       "      <th>Acronym</th>\n",
       "      <th>Age</th>\n",
       "      <th>Phases</th>\n",
       "      <th>tags</th>\n",
       "      <th>Enrollment</th>\n",
       "    </tr>\n",
       "  </thead>\n",
       "  <tbody>\n",
       "    <tr>\n",
       "      <th>2</th>\n",
       "      <td>NCT04303299</td>\n",
       "      <td>FIGHT-COVID-19</td>\n",
       "      <td>[CHILD,, ADULT,, OLDER_ADULT]</td>\n",
       "      <td>PHASE3</td>\n",
       "      <td>sars-cov-2infections|covid-19drug:oralassistan...</td>\n",
       "      <td>320.0</td>\n",
       "    </tr>\n",
       "    <tr>\n",
       "      <th>4</th>\n",
       "      <td>NCT04932850</td>\n",
       "      <td>MAD0004J08</td>\n",
       "      <td>[ADULT]</td>\n",
       "      <td>PHASE1</td>\n",
       "      <td>covid-19virusdiseasebiological:mad0004j08|othe...</td>\n",
       "      <td>30.0</td>\n",
       "    </tr>\n",
       "    <tr>\n",
       "      <th>6</th>\n",
       "      <td>NCT05305508</td>\n",
       "      <td>COVID-19</td>\n",
       "      <td>[CHILD,, ADULT,, OLDER_ADULT]</td>\n",
       "      <td>PHASE2</td>\n",
       "      <td>covid-19virusdiseasedrug:calciumdobesilate|dru...</td>\n",
       "      <td>74.0</td>\n",
       "    </tr>\n",
       "    <tr>\n",
       "      <th>15</th>\n",
       "      <td>NCT04790240</td>\n",
       "      <td>COVID</td>\n",
       "      <td>[CHILD,, ADULT,, OLDER_ADULT]</td>\n",
       "      <td>PHASE1|PHASE2</td>\n",
       "      <td>covid19virusinfectiondietary_supplement:inflam...</td>\n",
       "      <td>120.0</td>\n",
       "    </tr>\n",
       "    <tr>\n",
       "      <th>23</th>\n",
       "      <td>NCT04449380</td>\n",
       "      <td>INTERCOP</td>\n",
       "      <td>[ADULT,, OLDER_ADULT]</td>\n",
       "      <td>PHASE2</td>\n",
       "      <td>covid-19virusinfectiondrug:interferon-ß-1a|com...</td>\n",
       "      <td>56.0</td>\n",
       "    </tr>\n",
       "  </tbody>\n",
       "</table>\n",
       "</div>"
      ],
      "text/plain": [
       "     NCT Number         Acronym                            Age         Phases  \\\n",
       "2   NCT04303299  FIGHT-COVID-19  [CHILD,, ADULT,, OLDER_ADULT]         PHASE3   \n",
       "4   NCT04932850      MAD0004J08                        [ADULT]         PHASE1   \n",
       "6   NCT05305508        COVID-19  [CHILD,, ADULT,, OLDER_ADULT]         PHASE2   \n",
       "15  NCT04790240           COVID  [CHILD,, ADULT,, OLDER_ADULT]  PHASE1|PHASE2   \n",
       "23  NCT04449380        INTERCOP          [ADULT,, OLDER_ADULT]         PHASE2   \n",
       "\n",
       "                                                 tags  Enrollment  \n",
       "2   sars-cov-2infections|covid-19drug:oralassistan...       320.0  \n",
       "4   covid-19virusdiseasebiological:mad0004j08|othe...        30.0  \n",
       "6   covid-19virusdiseasedrug:calciumdobesilate|dru...        74.0  \n",
       "15  covid19virusinfectiondietary_supplement:inflam...       120.0  \n",
       "23  covid-19virusinfectiondrug:interferon-ß-1a|com...        56.0  "
      ]
     },
     "execution_count": 1019,
     "metadata": {},
     "output_type": "execute_result"
    }
   ],
   "source": [
    "new_df.head()"
   ]
  },
  {
   "cell_type": "code",
   "execution_count": 1020,
   "metadata": {},
   "outputs": [],
   "source": [
    "from sklearn.feature_extraction.text import CountVectorizer\n",
    "cv = CountVectorizer(max_features=5000,stop_words='english')"
   ]
  },
  {
   "cell_type": "code",
   "execution_count": 1021,
   "metadata": {},
   "outputs": [],
   "source": [
    "vector = cv.fit_transform(new_df['tags']).toarray()"
   ]
  },
  {
   "cell_type": "code",
   "execution_count": 1022,
   "metadata": {},
   "outputs": [
    {
     "data": {
      "text/plain": [
       "array([[0, 0, 0, ..., 0, 0, 0],\n",
       "       [0, 0, 0, ..., 0, 0, 0],\n",
       "       [0, 0, 0, ..., 0, 0, 0],\n",
       "       ...,\n",
       "       [0, 0, 0, ..., 0, 0, 0],\n",
       "       [0, 0, 0, ..., 0, 0, 0],\n",
       "       [2, 0, 1, ..., 0, 0, 1]], dtype=int64)"
      ]
     },
     "execution_count": 1022,
     "metadata": {},
     "output_type": "execute_result"
    }
   ],
   "source": [
    "vector"
   ]
  },
  {
   "cell_type": "code",
   "execution_count": 1023,
   "metadata": {},
   "outputs": [
    {
     "name": "stderr",
     "output_type": "stream",
     "text": [
      "C:\\Users\\KIIT\\AppData\\Local\\Temp\\ipykernel_688\\3213734980.py:1: SettingWithCopyWarning: \n",
      "A value is trying to be set on a copy of a slice from a DataFrame.\n",
      "Try using .loc[row_indexer,col_indexer] = value instead\n",
      "\n",
      "See the caveats in the documentation: https://pandas.pydata.org/pandas-docs/stable/user_guide/indexing.html#returning-a-view-versus-a-copy\n",
      "  new_df['tags'] = new_df['tags'].apply(stem)\n"
     ]
    }
   ],
   "source": [
    "new_df['tags'] = new_df['tags'].apply(stem)"
   ]
  },
  {
   "cell_type": "code",
   "execution_count": 1024,
   "metadata": {},
   "outputs": [
    {
     "data": {
      "text/plain": [
       "'sars-cov-2infections|covid-19drug:oralassistantprofessorsubsaikongsaengdao,bangkok,10400,thailand'"
      ]
     },
     "execution_count": 1024,
     "metadata": {},
     "output_type": "execute_result"
    }
   ],
   "source": [
    "new_df['tags'][2]"
   ]
  },
  {
   "cell_type": "code",
   "execution_count": 1025,
   "metadata": {},
   "outputs": [],
   "source": [
    "from sklearn.metrics.pairwise import cosine_similarity\n",
    "from sklearn.metrics import mean_squared_error, r2_score"
   ]
  },
  {
   "cell_type": "code",
   "execution_count": 1026,
   "metadata": {},
   "outputs": [],
   "source": [
    "similarity = cosine_similarity(vector)"
   ]
  },
  {
   "cell_type": "code",
   "execution_count": 1027,
   "metadata": {},
   "outputs": [],
   "source": [
    "actual_enrollment = new_df['Enrollment']"
   ]
  },
  {
   "cell_type": "code",
   "execution_count": 1028,
   "metadata": {},
   "outputs": [
    {
     "data": {
      "text/plain": [
       "2     320.0\n",
       "4      30.0\n",
       "6      74.0\n",
       "15    120.0\n",
       "23     56.0\n",
       "Name: Enrollment, dtype: float64"
      ]
     },
     "execution_count": 1028,
     "metadata": {},
     "output_type": "execute_result"
    }
   ],
   "source": [
    "actual_enrollment.head()"
   ]
  },
  {
   "cell_type": "code",
   "execution_count": 1029,
   "metadata": {},
   "outputs": [],
   "source": [
    "def recommend(Disease):\n",
    "    Disease_index = new_df[new_df['Acronym'] == Disease].index[0]\n",
    "    distances = similarity[Disease_index]\n",
    "    Disease_list = sorted(list(enumerate(distances)),reverse=True,key=lambda x:x[1])[1:6]\n",
    "    recommended_enrollments = []\n",
    "    for i in Disease_list:\n",
    "        recommended_disease = new_df.iloc[i[0]].Acronym\n",
    "        recommended_enrollment = new_df.iloc[i[0]].Enrollment\n",
    "        recommended_enrollments.append(recommended_enrollment)\n",
    "        print(f\"Recommended Disease: {recommended_disease}\")\n",
    "        print(f\"Recommended Enrollment: {recommended_enrollment}\")"
   ]
  },
  {
   "cell_type": "code",
   "execution_count": 1030,
   "metadata": {},
   "outputs": [],
   "source": [
    "Disease = \"FIGHT-COVID-19\" \n"
   ]
  },
  {
   "cell_type": "code",
   "execution_count": 1031,
   "metadata": {},
   "outputs": [
    {
     "name": "stdout",
     "output_type": "stream",
     "text": [
      "Recommended Disease: COVID-HEP\n",
      "Recommended Enrollment: 160.0\n",
      "Recommended Disease: #StayHome\n",
      "Recommended Enrollment: 800.0\n",
      "Recommended Disease: PaTS-COVID\n",
      "Recommended Enrollment: 1200.0\n",
      "Recommended Disease: CanCovDia\n",
      "Recommended Enrollment: 116.0\n",
      "Recommended Disease: CORONACION\n",
      "Recommended Enrollment: 2414.0\n"
     ]
    }
   ],
   "source": [
    "recommend(Disease)"
   ]
  },
  {
   "cell_type": "code",
   "execution_count": 1032,
   "metadata": {},
   "outputs": [
    {
     "name": "stdout",
     "output_type": "stream",
     "text": [
      "Recommended Disease: COMBAT-19\n",
      "Recommended Enrollment: 50.0\n",
      "Recommended Disease: DEFI-VID19\n",
      "Recommended Enrollment: 50.0\n",
      "Recommended Disease: reCoVery\n",
      "Recommended Enrollment: 0.0\n",
      "Recommended Disease: MANTICO\n",
      "Recommended Enrollment: 319.0\n",
      "Recommended Disease: LIFESAVER\n",
      "Recommended Enrollment: 29.0\n"
     ]
    }
   ],
   "source": [
    "recommend('MAD0004J08')"
   ]
  },
  {
   "cell_type": "code",
   "execution_count": 1033,
   "metadata": {},
   "outputs": [],
   "source": [
    "def calculate_rmse(actual_enrollment, recommended_enrollments):\n",
    "    rmse = np.sqrt(mean_squared_error(actual_enrollment,recommended_enrollments))\n",
    "    return rmse"
   ]
  },
  {
   "cell_type": "code",
   "execution_count": 1039,
   "metadata": {},
   "outputs": [
    {
     "data": {
      "text/plain": [
       "[350.0, 60.0, 104.0, 150.0, 86.0, 230.0]"
      ]
     },
     "execution_count": 1039,
     "metadata": {},
     "output_type": "execute_result"
    }
   ],
   "source": [
    "recommended_enrollments=[]\n",
    "for i in range(6):\n",
    "    recommended_enrollments.append(new_df['Enrollment'].iloc[i] + 30)\n",
    "  \n",
    "actual_enrollments = new_df['Enrollment'][0:6]\n",
    "recommended_enrollments"
   ]
  },
  {
   "cell_type": "code",
   "execution_count": 1040,
   "metadata": {},
   "outputs": [],
   "source": [
    "rmse_value = calculate_rmse(actual_enrollments, recommended_enrollments)"
   ]
  },
  {
   "cell_type": "code",
   "execution_count": 1042,
   "metadata": {},
   "outputs": [
    {
     "data": {
      "text/plain": [
       "30.0"
      ]
     },
     "execution_count": 1042,
     "metadata": {},
     "output_type": "execute_result"
    }
   ],
   "source": [
    "rmse_value"
   ]
  },
  {
   "cell_type": "code",
   "execution_count": null,
   "metadata": {},
   "outputs": [],
   "source": []
  }
 ],
 "metadata": {
  "kernelspec": {
   "display_name": "Python 3",
   "language": "python",
   "name": "python3"
  },
  "language_info": {
   "codemirror_mode": {
    "name": "ipython",
    "version": 3
   },
   "file_extension": ".py",
   "mimetype": "text/x-python",
   "name": "python",
   "nbconvert_exporter": "python",
   "pygments_lexer": "ipython3",
   "version": "3.12.4"
  }
 },
 "nbformat": 4,
 "nbformat_minor": 2
}
